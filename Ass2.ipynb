{
 "cells": [
  {
   "cell_type": "code",
   "execution_count": 71,
   "id": "a5898291-7aa9-48ca-8376-062081a18411",
   "metadata": {},
   "outputs": [],
   "source": [
    "#Imports\n",
    "import numpy as np\n",
    "import matplotlib.pyplot as plt\n",
    "from decimal import *\n",
    "import mpmath as mp\n",
    "from mpmath import *\n",
    "mp.dps = 50"
   ]
  },
  {
   "cell_type": "code",
   "execution_count": 5,
   "id": "78a2807c-4de9-4468-97e4-f8d43a4d5882",
   "metadata": {},
   "outputs": [],
   "source": [
    "#Constants (SI)\n",
    "c = 3e8 # m/s\n",
    "sigma = 6.652e-29 # m^2 Thompson cross section\n",
    "ep = 8.854e-12 # vacuum permitivity\n",
    "m = 9.109e-31 #kg electron mass\n",
    "q = 1.602e-19 # electron charge C"
   ]
  },
  {
   "cell_type": "code",
   "execution_count": 7,
   "id": "cc2b8af5-1b7f-49ac-851b-ce4d4d34493a",
   "metadata": {},
   "outputs": [
    {
     "name": "stdout",
     "output_type": "stream",
     "text": [
      "810746.0878705103 yrs 0.025708589798024806 Gyrs 2.5708589798024807e-11\n"
     ]
    }
   ],
   "source": [
    "#calculation\n",
    "B = 10e-7 #M-filed strength\n",
    "v = 3e18#frequency\n",
    "t = 3**(3/2)/8*(q*m)**(1/2)/ep/c/sigma*B**(-3/2)*v**(-1/2)\n",
    "print(t, \"yrs\", t/3600/24/365, \"Gyrs\", t/3600/24/365/1e9)"
   ]
  },
  {
   "cell_type": "code",
   "execution_count": 101,
   "id": "1b532f26-2693-4fad-9eab-e2bb26eba51a",
   "metadata": {},
   "outputs": [
    {
     "data": {
      "text/plain": [
       "mpf('13.224867840000000305039297500252696482223397099618687')"
      ]
     },
     "execution_count": 101,
     "metadata": {},
     "output_type": "execute_result"
    }
   ],
   "source": [
    "#\n",
    "kpc = mpf(3.086e19)\n",
    "d = mpf(768)*kpc\n",
    "t = mpf(900)\n",
    "v = d/((t**2+d**2/c**2)**(1/2))\n",
    "beta = (d)/((t**2+d**2/c**2)**(1/2))/mpf(c)\n",
    "m = 1.674e-27\n",
    "g = (1-beta**2)**(-1/2)\n",
    "E = g*mpf(m)*(c**2)\n",
    "E"
   ]
  },
  {
   "cell_type": "code",
   "execution_count": 83,
   "id": "737d45a9-f658-49a9-9d09-bc34204208d3",
   "metadata": {},
   "outputs": [
    {
     "data": {
      "text/plain": [
       "mpf('299999999.99999999982058986626199309590115702066333427')"
      ]
     },
     "execution_count": 83,
     "metadata": {},
     "output_type": "execute_result"
    }
   ],
   "source": [
    "v = d/((t**2+d**2/c**2)**(1/2))\n",
    "v"
   ]
  },
  {
   "cell_type": "code",
   "execution_count": 77,
   "id": "a476edb7-acf4-4fd1-8962-8226773778a9",
   "metadata": {},
   "outputs": [
    {
     "name": "stdout",
     "output_type": "stream",
     "text": [
      "Mpmath settings:\n",
      "  mp.prec = 169               [default: 53]\n",
      "  mp.dps = 50                 [default: 15]\n",
      "  mp.trap_complex = False     [default: False]\n"
     ]
    }
   ],
   "source": [
    "print(mp)"
   ]
  },
  {
   "cell_type": "code",
   "execution_count": null,
   "id": "bfb3b6fb-3afe-435d-8a4d-b0222d29396f",
   "metadata": {},
   "outputs": [],
   "source": []
  }
 ],
 "metadata": {
  "kernelspec": {
   "display_name": "Python 3 (ipykernel)",
   "language": "python",
   "name": "python3"
  },
  "language_info": {
   "codemirror_mode": {
    "name": "ipython",
    "version": 3
   },
   "file_extension": ".py",
   "mimetype": "text/x-python",
   "name": "python",
   "nbconvert_exporter": "python",
   "pygments_lexer": "ipython3",
   "version": "3.9.19"
  }
 },
 "nbformat": 4,
 "nbformat_minor": 5
}
